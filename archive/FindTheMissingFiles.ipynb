{
 "cells": [
  {
   "cell_type": "code",
   "execution_count": null,
   "id": "59dbcbcc",
   "metadata": {},
   "outputs": [],
   "source": [
    "from tqdm import tqdm\n",
    "import os\n",
    "import pandas as pd\n",
    "import numpy as np\n",
    "import warnings"
   ]
  },
  {
   "cell_type": "code",
   "execution_count": 35,
   "id": "e3b7f7eb",
   "metadata": {},
   "outputs": [
    {
     "name": "stdout",
     "output_type": "stream",
     "text": [
      "Number of files in DJA directory: 18507\n"
     ]
    }
   ],
   "source": [
    "DJA_Catalog_DataFrame= pd.read_csv('./DJACatalog.csv')\n",
    "DJA_File_Path_str=os.path.expanduser('~/DJAData/')\n",
    "\n",
    "if os.path.exists(DJA_File_Path_str):\n",
    "    DJA_File_list=np.array(os.listdir(DJA_File_Path_str))\n",
    "print('Number of files in DJA directory:', len(DJA_File_list))"
   ]
  },
  {
   "cell_type": "code",
   "execution_count": null,
   "id": "f8f288df",
   "metadata": {},
   "outputs": [],
   "source": [
    "Sample_Indices_list=list()\n",
    "\n",
    "for Index_In_DJA_Catalog_int in range(len(DJA_Catalog_DataFrame)):\n",
    "    DJA_Catalog_row=DJA_Catalog_DataFrame.iloc[Index_In_DJA_Catalog_int]\n",
    "\n",
    "    redshift_float=DJA_Catalog_row['z']\n",
    "\n",
    "    if (redshift_float < 4) or (redshift_float > 6.5):\n",
    "        continue\n",
    "\n",
    "    Spectra_NGrating_int=DJA_Catalog_row.nGr\n",
    "\n",
    "    if Spectra_NGrating_int <2:\n",
    "        continue\n",
    "\n",
    "    Sample_Indices_list.append(Index_In_DJA_Catalog_int)\n",
    "\n",
    "print('Number of samples in DJA catalog:', len(Sample_Indices_list))\n",
    "Sample_Indices_list= np.array(Sample_Indices_list)"
   ]
  },
  {
   "cell_type": "code",
   "execution_count": null,
   "id": "75de367d",
   "metadata": {},
   "outputs": [],
   "source": [
    "DJA_Root_Path = 'https://s3.amazonaws.com/msaexp-nirspec/extractions/'\n",
    "\n",
    "\n",
    "for DJA_Catalog_Dataframe_Index_int in tqdm(Sample_Indices_list, desc='Processing DJA Catalog'):\n",
    "    Object_Catalog_Dataframe_row = DJA_Catalog_DataFrame.iloc[DJA_Catalog_Dataframe_Index_int]\n",
    "\n",
    "    Object_Prism_fits_File_Name_str = Object_Catalog_Dataframe_row.file\n",
    "    Object_NGrating_int= Object_Catalog_Dataframe_row.nGr\n",
    "    Object_Redshift_float = Object_Catalog_Dataframe_row.z\n",
    "    Object_Grating_List_str= Object_Catalog_Dataframe_row.Grating\n",
    "    Object_File_Root_Name_str = Object_Catalog_Dataframe_row.root\n",
    "\n",
    "    for Grating_Type_str in Object_Grating_List_str.split('   '):\n",
    "        Grating_Type_str = Grating_Type_str.strip().lower()\n",
    "\n",
    "        Disperser_Name_str = Grating_Type_str[1:-1]\n",
    "\n",
    "        Dual_Filter_bool = False\n",
    "\n",
    "        if Disperser_Name_str == '140':\n",
    "            Dual_Filter_bool = True\n",
    "            Disperser_Filter_070_str=Grating_Type_str+'-f070lp'\n",
    "            Disperser_Filter_100_str=Grating_Type_str+'-f100lp'\n",
    "\n",
    "        elif Disperser_Name_str == '235':\n",
    "            Dual_Filter_bool = False\n",
    "            Disperser_Filter_Single_str=Grating_Type_str+'-f170lp'\n",
    "        elif Disperser_Name_str == '395':\n",
    "            Dual_Filter_bool = False\n",
    "            Disperser_Filter_Single_str=Grating_Type_str+'-f290lp'\n",
    "\n",
    "        if Dual_Filter_bool:\n",
    "            continue\n",
    "            # try:\n",
    "            #     Grating_070_fits_File_Name_str = Object_Prism_fits_File_Name_str.replace('prism-clear', Disperser_Filter_070_str)\n",
    "            #     Grating_100_fits_File_Name_str = Object_Prism_fits_File_Name_str.replace('prism-clear', Disperser_Filter_100_str)\n",
    "\n",
    "            #     if not os.path.exists(os.path.join(DJA_File_Path_str, Grating_070_fits_File_Name_str)) and not os.path.exists(os.path.join(DJA_File_Path_str, Grating_100_fits_File_Name_str)):\n",
    "            #         print('Downloading:', Grating_070_fits_File_Name_str)\n",
    "            #         os.system(f'wget -P {DJA_Root_Path} {Grating_070_fits_File_Name_str}')\n",
    "            #         os.system(f'wget -P {DJA_Root_Path} {Grating_100_fits_File_Name_str}')\n",
    "            # except Exception as e:\n",
    "            #     warnings.warn(f\"Error processing {Object_Prism_fits_File_Name_str} for {Grating_Type_str}: {e}\")\n",
    "            #     continue\n",
    "\n",
    "        else:\n",
    "            try:\n",
    "                Grating_Single_fits_File_Name_str = Object_Prism_fits_File_Name_str.replace('prism-clear', Disperser_Filter_Single_str)\n",
    "\n",
    "                url= os.path.join(DJA_Root_Path,Object_File_Root_Name_str, Grating_Single_fits_File_Name_str)\n",
    "\n",
    "                if not os.path.exists(os.path.join(DJA_File_Path_str, Grating_Single_fits_File_Name_str)):\n",
    "                    print('Downloading:', Grating_Single_fits_File_Name_str)\n",
    "                    os.system(f'wget -P {DJA_Root_Path} {url}')\n",
    "            except Exception as e:\n",
    "                warnings.warn(f\"Error processing {Object_Prism_fits_File_Name_str} for {Grating_Type_str}: {e}\")\n",
    "                continue\n",
    "\n"
   ]
  },
  {
   "cell_type": "code",
   "execution_count": null,
   "id": "f26ae443",
   "metadata": {},
   "outputs": [],
   "source": []
  }
 ],
 "metadata": {
  "kernelspec": {
   "display_name": "DustCurve",
   "language": "python",
   "name": "python3"
  },
  "language_info": {
   "codemirror_mode": {
    "name": "ipython",
    "version": 3
   },
   "file_extension": ".py",
   "mimetype": "text/x-python",
   "name": "python",
   "nbconvert_exporter": "python",
   "pygments_lexer": "ipython3",
   "version": "3.11.11"
  }
 },
 "nbformat": 4,
 "nbformat_minor": 5
}
