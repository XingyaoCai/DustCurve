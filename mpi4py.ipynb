{
 "cells": [
  {
   "cell_type": "code",
   "execution_count": 5,
   "id": "3d46e3ae",
   "metadata": {},
   "outputs": [],
   "source": [
    "from mpi4py import MPI\n",
    "import numpy as np\n",
    "import os\n",
    "import glob\n",
    "import pickle\n",
    "import time\n",
    "from pathlib import Path\n",
    "\n",
    "DJAv2_Path=os.path.expanduser('~/DJAData')\n",
    "DJAv4_Path=os.path.expanduser('~/DJAv4')"
   ]
  },
  {
   "cell_type": "code",
   "execution_count": 1,
   "id": "455e8bb6",
   "metadata": {},
   "outputs": [],
   "source": [
    "def get_spectrum_files(directory_path,pattern='*.fits'):\n",
    "    spectrum_files=glob.glob(os.path.join(directory_path,pattern))\n",
    "\n",
    "    return spectrum_files"
   ]
  },
  {
   "cell_type": "code",
   "execution_count": 10,
   "id": "faacee30",
   "metadata": {},
   "outputs": [],
   "source": [
    "a=get_spectrum_files(DJAv2_Path)"
   ]
  },
  {
   "cell_type": "code",
   "execution_count": 12,
   "id": "9d92d2f3",
   "metadata": {},
   "outputs": [],
   "source": [
    "def chunk_list_for_mpi(lst, num_chunks):\n",
    "    k, m = divmod(len(lst), num_chunks)\n",
    "    return [lst[i * k + min(i, m):(i + 1) * k + min(i + 1, m)] for i in range(num_chunks)]"
   ]
  },
  {
   "cell_type": "code",
   "execution_count": 13,
   "id": "ff876ad7",
   "metadata": {},
   "outputs": [
    {
     "name": "stdout",
     "output_type": "stream",
     "text": [
      "Rank 0 of 1 started.\n",
      "Rank 0 of 1 is processing 18507 files.\n"
     ]
    }
   ],
   "source": [
    "comm= MPI.COMM_WORLD\n",
    "rank = comm.Get_rank()\n",
    "size = comm.Get_size()\n",
    "print(f\"Rank {rank} of {size} started.\")\n",
    "print(f\"Rank {rank} of {size} is processing {len(a)} files.\")\n",
    "\n",
    "output_dir=os.path.expanduser('~/DJAv4')"
   ]
  },
  {
   "cell_type": "code",
   "execution_count": null,
   "id": "f4bc3dfb",
   "metadata": {},
   "outputs": [],
   "source": []
  }
 ],
 "metadata": {
  "kernelspec": {
   "display_name": "DustCurve",
   "language": "python",
   "name": "python3"
  },
  "language_info": {
   "codemirror_mode": {
    "name": "ipython",
    "version": 3
   },
   "file_extension": ".py",
   "mimetype": "text/x-python",
   "name": "python",
   "nbconvert_exporter": "python",
   "pygments_lexer": "ipython3",
   "version": "3.11.11"
  }
 },
 "nbformat": 4,
 "nbformat_minor": 5
}
