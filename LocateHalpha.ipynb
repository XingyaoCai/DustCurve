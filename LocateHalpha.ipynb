{
 "cells": [
  {
   "cell_type": "code",
   "execution_count": 12,
   "id": "053609a4",
   "metadata": {},
   "outputs": [],
   "source": [
    "import astropy\n",
    "import astropy.units as u\n",
    "import numpy as np\n",
    "import specutils\n",
    "import matplotlib.pyplot as plt\n",
    "import pandas as pd\n",
    "import inspect\n",
    "import FunctionLib as FL\n",
    "\n",
    "import os\n",
    "import warnings\n",
    "warnings.filterwarnings(\"ignore\", category=UserWarning, append=True)"
   ]
  },
  {
   "cell_type": "code",
   "execution_count": 13,
   "id": "3a56ccc8",
   "metadata": {},
   "outputs": [
    {
     "name": "stdout",
     "output_type": "stream",
     "text": [
      "Number of files in DJA directory: 18506\n"
     ]
    }
   ],
   "source": [
    "DJA_File_Path_str=os.path.expanduser('~/DJAData/')\n",
    "DJA_Catalog_DataFrame=pd.read_csv('./DJACatalog.csv')\n",
    "\n",
    "if os.path.exists(DJA_File_Path_str):\n",
    "    DJA_File_list=np.array(os.listdir(DJA_File_Path_str))\n",
    "print('Number of files in DJA directory:', len(DJA_File_list))"
   ]
  },
  {
   "cell_type": "code",
   "execution_count": 17,
   "id": "eeafc159",
   "metadata": {},
   "outputs": [
    {
     "name": "stdout",
     "output_type": "stream",
     "text": [
      "Sample number: 620\n"
     ]
    }
   ],
   "source": [
    "Sample_Indices_list=list()\n",
    "for Index_In_DJA_Catalog_int in range(len(DJA_Catalog_DataFrame)):\n",
    "\n",
    "    Redshift_float=DJA_Catalog_DataFrame['z'][Index_In_DJA_Catalog_int]\n",
    "\n",
    "    if (Redshift_float<4)or (Redshift_float>6.5):\n",
    "        continue\n",
    "\n",
    "    Spectra_NGrating_int=DJA_Catalog_DataFrame.nGr[Index_In_DJA_Catalog_int]\n",
    "    if Spectra_NGrating_int<2:\n",
    "        continue\n",
    "\n",
    "    Sample_Indices_list.append(Index_In_DJA_Catalog_int)\n",
    "\n",
    "print('Sample number:', len(Sample_Indices_list))\n",
    "Sample_Indices_list=np.array(Sample_Indices_list)\n",
    "\n",
    "FL.Free('Index_In_DJA_Catalog_int')"
   ]
  },
  {
   "cell_type": "code",
   "execution_count": null,
   "id": "60749a01",
   "metadata": {},
   "outputs": [
    {
     "name": "stdout",
     "output_type": "stream",
     "text": [
      "Grating Type: g140m\n",
      "Grating Type: g235m\n",
      "Grating Type: g395m\n"
     ]
    }
   ],
   "source": [
    "for DJA_Catalog_DataFrame_Index_int in Sample_Indices_list:\n",
    "\n",
    "    Object_Catalog_Dataframe=DJA_Catalog_DataFrame[DJA_Catalog_DataFrame.index==DJA_Catalog_DataFrame_Index_int]\n",
    "\n",
    "    Object_Prism_fits_File_Name_str=Object_Catalog_Dataframe.file.values[0]\n",
    "    Object_NGrating_int=Object_Catalog_Dataframe.nGr.values[0]\n",
    "    Object_Grating_List_str=Object_Catalog_Dataframe.Grating.values[0]\n",
    "\n",
    "    for Grating_Type_str in Object_Grating_List_str.split('   '):\n",
    "        Grating_Type_str=Grating_Type_str.strip().lower()\n",
    "\n",
    "        Disperser_Name_str=Grating_Type_str[1:-1]\n",
    "\n",
    "        Dual_Filter_Flag=False\n",
    "\n",
    "        if Disperser_Name_str=='140':\n",
    "            Dual_Filter_Flag=True\n",
    "            Disperser_Filter_Combination_070_str=Grating_Type_str+'-f070lp'\n",
    "            Disperser_Filter_Combination_100_str=Grating_Type_str+'-f100lp'\n",
    "        elif Disperser_Name_str=='235':\n",
    "            Dual_Filter_Flag=False\n",
    "            Disperser_Filter_Combination_170_str=Grating_Type_str+'-f170lp'\n",
    "        elif Disperser_Name_str=='395':\n",
    "            Dual_Filter_Flag=False\n",
    "            Disperser_Filter_Combination_290_str=Grating_Type_str+'-f290lp'\n",
    "\n",
    "        if Dual_Filter_Flag:\n",
    "\n",
    "\n",
    "\n",
    "\n",
    "\n",
    "    break"
   ]
  },
  {
   "cell_type": "code",
   "execution_count": null,
   "id": "9e809b0f",
   "metadata": {},
   "outputs": [
    {
     "data": {
      "text/plain": [
       "'G140M   G235M   G395M'"
      ]
     },
     "execution_count": 33,
     "metadata": {},
     "output_type": "execute_result"
    }
   ],
   "source": []
  },
  {
   "cell_type": "code",
   "execution_count": null,
   "id": "eb4e8e39",
   "metadata": {},
   "outputs": [],
   "source": []
  }
 ],
 "metadata": {
  "kernelspec": {
   "display_name": "DustCurve",
   "language": "python",
   "name": "python3"
  },
  "language_info": {
   "codemirror_mode": {
    "name": "ipython",
    "version": 3
   },
   "file_extension": ".py",
   "mimetype": "text/x-python",
   "name": "python",
   "nbconvert_exporter": "python",
   "pygments_lexer": "ipython3",
   "version": "3.11.11"
  }
 },
 "nbformat": 4,
 "nbformat_minor": 5
}
