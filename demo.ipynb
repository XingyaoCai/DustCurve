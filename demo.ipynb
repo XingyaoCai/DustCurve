{
 "cells": [
  {
   "cell_type": "code",
   "execution_count": null,
   "id": "886486fe",
   "metadata": {},
   "outputs": [],
   "source": [
    "import warnings\n",
    "import FunctionLib as FL\n",
    "import inspect\n",
    "from tqdm import tqdm\n",
    "import astropy\n",
    "import wave\n",
    "from matplotlib.image import resample\n",
    "import numpy as np\n",
    "import pandas as pd\n",
    "import os\n",
    "import matplotlib.pyplot as plt\n",
    "import matplotlib as mpl\n",
    "from collections import defaultdict\n",
    "import re\n",
    "import scipy\n",
    "\n",
    "mpl.rcParams['font.family'] = 'serif'\n",
    "\n",
    "\n",
    "warnings.filterwarnings(\"ignore\")\n",
    "\n",
    "\n",
    "DJA_File_Path_str = os.path.expanduser('~/DJAv4/')\n",
    "\n",
    "DJA_Catalog_DataFrame = pd.read_csv(\n",
    "    os.path.expanduser('~/DustCurve/DJAv4Catalog.csv'))\n",
    "DJA_File_List_All = []\n",
    "number_file = 0\n",
    "\n",
    "if os.path.exists(DJA_File_Path_str):\n",
    "    for root_dir in os.listdir(DJA_File_Path_str):\n",
    "        if root_dir.startswith('.'):\n",
    "            continue\n",
    "        Root_File_Path_str = os.path.join(DJA_File_Path_str, root_dir)\n",
    "        DJA_File_List = np.array(os.listdir(Root_File_Path_str))\n",
    "        number_file += len(DJA_File_List)\n",
    "        for file_name in DJA_File_List:\n",
    "            if file_name.endswith('.fits'):\n",
    "                DJA_File_List_All.append(\n",
    "                    os.path.join(Root_File_Path_str, file_name))\n",
    "\n",
    "print('Number of files in DJAv4:', number_file)\n",
    "\n",
    "redshift_is = np.where(DJA_Catalog_DataFrame['z'] != np.nan)[0]"
   ]
  },
  {
   "cell_type": "code",
   "execution_count": null,
   "id": "114b387c",
   "metadata": {},
   "outputs": [],
   "source": []
  },
  {
   "cell_type": "code",
   "execution_count": null,
   "id": "c910fced",
   "metadata": {},
   "outputs": [],
   "source": [
    "catalog = FL.Spectrum_Catalog()\n",
    "catalog.process_files(DJA_File_List_All, DJA_Catalog_DataFrame)\n",
    "stats = catalog.get_summary_stats()"
   ]
  },
  {
   "cell_type": "code",
   "execution_count": null,
   "id": "4b978170",
   "metadata": {},
   "outputs": [],
   "source": [
    "for key, value in stats.items():\n",
    "    print(f\"{key}: {value}\")"
   ]
  },
  {
   "cell_type": "code",
   "execution_count": null,
   "id": "d86c751c",
   "metadata": {},
   "outputs": [],
   "source": [
    "catalog.save_catalog_to_csv('spectrum_catalog.csv')"
   ]
  },
  {
   "cell_type": "code",
   "execution_count": null,
   "id": "6d560166",
   "metadata": {},
   "outputs": [],
   "source": [
    "df = pd.read_csv('spectrum_catalog.csv')\n",
    "df"
   ]
  }
 ],
 "metadata": {
  "kernelspec": {
   "display_name": "DustCurve",
   "language": "python",
   "name": "python3"
  },
  "language_info": {
   "codemirror_mode": {
    "name": "ipython",
    "version": 3
   },
   "file_extension": ".py",
   "mimetype": "text/x-python",
   "name": "python",
   "nbconvert_exporter": "python",
   "pygments_lexer": "ipython3",
   "version": "3.11.11"
  }
 },
 "nbformat": 4,
 "nbformat_minor": 5
}
