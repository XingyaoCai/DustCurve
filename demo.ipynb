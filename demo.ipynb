{
 "cells": [
  {
   "cell_type": "code",
   "execution_count": 2,
   "id": "886486fe",
   "metadata": {},
   "outputs": [
    {
     "name": "stdout",
     "output_type": "stream",
     "text": [
      "Number of files in DJAv4: 67080\n"
     ]
    },
    {
     "name": "stderr",
     "output_type": "stream",
     "text": [
      "  1%|          | 20/2000 [00:00<00:05, 363.16it/s]\n"
     ]
    }
   ],
   "source": [
    "import wave\n",
    "from matplotlib.image import resample\n",
    "import numpy as np\n",
    "import pandas as pd\n",
    "import os\n",
    "import matplotlib.pyplot as plt\n",
    "\n",
    "\n",
    "import astropy\n",
    "import astropy.io as io\n",
    "import astropy.units as units\n",
    "import specutils\n",
    "from tqdm import tqdm\n",
    "\n",
    "import inspect\n",
    "\n",
    "import FunctionLib as FL\n",
    "import warnings\n",
    "warnings.filterwarnings(\"ignore\")\n",
    "\n",
    "\n",
    "DJA_File_Path_str=os.path.expanduser('~/DJAv4/')\n",
    "\n",
    "DJA_Catalog_DataFrame=pd.read_csv(os.path.expanduser('~/DustCurve/DJAv4Catalog.csv'))\n",
    "DJA_File_List_All=[]\n",
    "number_file=0\n",
    "\n",
    "if os.path.exists(DJA_File_Path_str):\n",
    "    for root_dir in os.listdir(DJA_File_Path_str):\n",
    "        if root_dir.startswith('.'):\n",
    "            continue\n",
    "        Root_File_Path_str=os.path.join(DJA_File_Path_str, root_dir)\n",
    "        DJA_File_List=np.array(os.listdir(Root_File_Path_str))\n",
    "        number_file+=len(DJA_File_List)\n",
    "        for file_name in DJA_File_List:\n",
    "            if file_name.endswith('.fits'):\n",
    "                DJA_File_List_All.append(os.path.join(Root_File_Path_str, file_name))\n",
    "\n",
    "print('Number of files in DJAv4:', number_file)\n",
    "\n",
    "redshift_is=np.where(DJA_Catalog_DataFrame['z']!= np.nan)[0]\n",
    "\n",
    "for file_name_str in tqdm((DJA_File_List_All[0:2000])):\n",
    "    if file_name_str.endswith('.fits'):\n",
    "        if file_name_str.split('/')[-1].split('_')[1]=='prism-clear':\n",
    "            continue\n",
    "        redshift_quantity=FL.Load_Redshift(DJA_Catalog_DataFrame, file_name_str.split('/')[-1])\n",
    "        if isinstance(redshift_quantity, IndexError):\n",
    "            continue\n",
    "        if np.isnan(redshift_quantity):\n",
    "            continue\n",
    "        if redshift_quantity < 2* astropy.units.dimensionless_unscaled:\n",
    "            continue\n",
    "\n",
    "\n",
    "        line_to_fit_restframe_wavelength_quantity=4863.0 * units.Angstrom\n",
    "\n",
    "        hdul=io.fits.open(os.path.join(DJA_File_Path_str, file_name_str))\n",
    "\n",
    "        wave= hdul[1].data['wave']* units.micron\n",
    "        flux= hdul[1].data['flux']*units.mJy\n",
    "\n",
    "        if wave[0]/(1+redshift_quantity.value)>0.45* units.micron:\n",
    "            continue\n",
    "\n",
    "        spectrum= FL.Spectrum_1d(\n",
    "            observed_wavelengths=wave,\n",
    "            redshift=redshift_quantity,\n",
    "            observed_flux_nu=flux\n",
    "        )\n",
    "        spectrum.set_boundarys(lower_boundary=0.45 * units.micron, upper_boundary=0.55 * units.micron)\n",
    "\n",
    "        fitter=FL.SpectralLineFitter(spectrum, 4863.0 * units.Angstrom, max_components=8, max_iterations=100000,)\n",
    "#figname=f'{file_name_str.split(\"/\")[-1].split(\".\")[0]}_fit.png'\n",
    "        fitter.iterative_gaussian_fitting(\n",
    "    line_restframe_wavelength=4863.0 * units.Angstrom,\n",
    "    tolerance=10 * units.Angstrom,\n",
    "    plot_results=False\n",
    ")\n",
    "        break"
   ]
  },
  {
   "cell_type": "code",
   "execution_count": null,
   "id": "54e06ddc",
   "metadata": {},
   "outputs": [],
   "source": [
    "def get_initial_guess(fitter, line_restframe_wavelength):\n",
    "    flux= fitter.spectrum.observed_flux_lambda\n",
    "    wave=fitter.spectrum.observed_wavelengths"
   ]
  },
  {
   "cell_type": "code",
   "execution_count": null,
   "id": "15dadaec",
   "metadata": {},
   "outputs": [],
   "source": [
    "initial_guess=fitter"
   ]
  },
  {
   "cell_type": "code",
   "execution_count": null,
   "id": "8dbed4db",
   "metadata": {},
   "outputs": [
    {
     "data": {
      "text/plain": [
       "<FunctionLib.SpectralLineFitter at 0x7f5aa8d36850>"
      ]
     },
     "execution_count": 3,
     "metadata": {},
     "output_type": "execute_result"
    }
   ],
   "source": [
    "fitter.fit_single_gaussian()"
   ]
  },
  {
   "cell_type": "code",
   "execution_count": null,
   "id": "5996bf32",
   "metadata": {},
   "outputs": [],
   "source": []
  }
 ],
 "metadata": {
  "kernelspec": {
   "display_name": "DustCurve",
   "language": "python",
   "name": "python3"
  },
  "language_info": {
   "codemirror_mode": {
    "name": "ipython",
    "version": 3
   },
   "file_extension": ".py",
   "mimetype": "text/x-python",
   "name": "python",
   "nbconvert_exporter": "python",
   "pygments_lexer": "ipython3",
   "version": "3.11.11"
  }
 },
 "nbformat": 4,
 "nbformat_minor": 5
}
