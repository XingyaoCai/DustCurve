{
 "cells": [
  {
   "cell_type": "code",
   "execution_count": 1,
   "id": "524f2f79",
   "metadata": {},
   "outputs": [],
   "source": [
    "import wave\n",
    "import numpy as np\n",
    "import pandas as pd\n",
    "import os\n",
    "import matplotlib.pyplot as plt\n",
    "\n",
    "import scipy\n",
    "from scipy import integrate\n",
    "import scipy.optimize\n",
    "import astropy\n",
    "import astropy.io as io\n",
    "import astropy.nddata\n",
    "import astropy.constants as const\n",
    "import astropy.units as units\n",
    "import specutils\n",
    "from tqdm import tqdm\n",
    "\n",
    "import inspect\n",
    "\n",
    "import FunctionLib as FL"
   ]
  },
  {
   "cell_type": "code",
   "execution_count": null,
   "id": "97079167",
   "metadata": {},
   "outputs": [],
   "source": [
    "\n"
   ]
  },
  {
   "cell_type": "code",
   "execution_count": null,
   "id": "e7d51709",
   "metadata": {},
   "outputs": [],
   "source": [
    "\n",
    "fitter.iterative_gaussian_fitting(4863.0 * units.Angstrom, tolerance=10 * units.AA, plot_results=True)"
   ]
  },
  {
   "cell_type": "code",
   "execution_count": null,
   "id": "ab649752",
   "metadata": {},
   "outputs": [],
   "source": []
  },
  {
   "cell_type": "code",
   "execution_count": null,
   "id": "dd28c010",
   "metadata": {},
   "outputs": [],
   "source": []
  },
  {
   "cell_type": "code",
   "execution_count": null,
   "id": "99b1b400",
   "metadata": {},
   "outputs": [],
   "source": [
    "fitter.fit_results"
   ]
  },
  {
   "cell_type": "code",
   "execution_count": null,
   "id": "a45663cb",
   "metadata": {},
   "outputs": [],
   "source": []
  }
 ],
 "metadata": {
  "kernelspec": {
   "display_name": "DustCurve",
   "language": "python",
   "name": "python3"
  },
  "language_info": {
   "codemirror_mode": {
    "name": "ipython",
    "version": 3
   },
   "file_extension": ".py",
   "mimetype": "text/x-python",
   "name": "python",
   "nbconvert_exporter": "python",
   "pygments_lexer": "ipython3",
   "version": "3.11.11"
  }
 },
 "nbformat": 4,
 "nbformat_minor": 5
}
