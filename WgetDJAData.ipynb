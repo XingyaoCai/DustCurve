{
 "cells": [
  {
   "cell_type": "code",
   "execution_count": 1,
   "id": "7138caa1",
   "metadata": {},
   "outputs": [
    {
     "name": "stdout",
     "output_type": "stream",
     "text": [
      "Data folder is empty, proceeding to download data...\n",
      "Downloading data...\n",
      "Found 8974 files to download\n",
      "Using 64 processes for parallel downloading\n"
     ]
    },
    {
     "name": "stderr",
     "output_type": "stream",
     "text": [
      "Downloading FITS files: 100%|██████████| 8974/8974 [14:38<00:00, 10.21it/s]  "
     ]
    },
    {
     "name": "stdout",
     "output_type": "stream",
     "text": [
      "Download completed. Successfully downloaded: 8974, Failed: 0\n"
     ]
    },
    {
     "name": "stderr",
     "output_type": "stream",
     "text": [
      "\n"
     ]
    }
   ],
   "source": [
    "import numpy as np\n",
    "import pandas as pd\n",
    "import os\n",
    "from tqdm import tqdm\n",
    "import multiprocessing\n",
    "from functools import partial\n",
    "\n",
    "def Download_Full_Spectra_FITS(File_Index_In_DJA_Catalog, File_CSVDataFrame, File_Path, DJA_Root_Path):\n",
    "    \"\"\"\n",
    "    Download the full spectra FITS file from the given URL and save it to the specified path.\n",
    "    \"\"\"\n",
    "    try:\n",
    "        Spectra_NGrating = File_CSVDataFrame.nGr[File_Index_In_DJA_Catalog]\n",
    "\n",
    "        FITS_File_Root_Name = File_CSVDataFrame.root[File_Index_In_DJA_Catalog]\n",
    "        FITS_File_Name = File_CSVDataFrame.file[File_Index_In_DJA_Catalog]\n",
    "\n",
    "        File_URL = os.path.join(DJA_Root_Path, FITS_File_Root_Name, FITS_File_Name)\n",
    "        File_Path_Full = os.path.join(File_Path, FITS_File_Name)\n",
    "\n",
    "        if not os.path.exists(File_Path_Full):\n",
    "            os.system('wget -q -P ' + File_Path + ' ' + File_URL)\n",
    "\n",
    "        if Spectra_NGrating:\n",
    "            for Grating in File_CSVDataFrame.Grating[File_Index_In_DJA_Catalog].split(' '):\n",
    "                Grating = Grating.strip().lower()\n",
    "                Disperser_Name = (Grating[1:-1])\n",
    "\n",
    "                Dual_Filter_Flag = False\n",
    "\n",
    "                if Disperser_Name == '140':\n",
    "                    Dual_Filter_Flag = True\n",
    "                    Grating_070 = Grating + '-f070lp'\n",
    "                    Grating_100 = Grating + '-f100lp'\n",
    "                elif Disperser_Name == '235':\n",
    "                    Grating = Grating + '-f170lp'\n",
    "                elif Disperser_Name == '395':\n",
    "                    Grating = Grating + '-f290lp'\n",
    "\n",
    "                if Dual_Filter_Flag:\n",
    "                    try:\n",
    "                        Grating_070_FITS_File_Name = FITS_File_Name.replace('prism-clear', Grating_070)\n",
    "\n",
    "                        Grating_070_FITS_File_Path = os.path.join(File_Path, Grating_070_FITS_File_Name)\n",
    "\n",
    "\n",
    "                        Grating_070_FITS_File_URL = os.path.join(DJA_Root_Path, FITS_File_Root_Name, Grating_070_FITS_File_Name)\n",
    "\n",
    "\n",
    "                        if not os.path.exists(Grating_070_FITS_File_Path):\n",
    "                            os.system('wget -q -P ' + File_Path + ' ' + Grating_070_FITS_File_URL)\n",
    "\n",
    "                    except Exception as e:\n",
    "                        print(f'Process {multiprocessing.current_process().name}: Error downloading grating files for: {FITS_File_Name}')\n",
    "                        print('Grating:', Grating)\n",
    "                        print('Grating_070_FITS_File_Name:', Grating_070_FITS_File_Name)\n",
    "                        print('Grating_070_FITS_File_URL:', Grating_070_FITS_File_URL)\n",
    "                        print('Error:', e)\n",
    "                        return -1\n",
    "                    try:\n",
    "                        Grating_100_FITS_File_Name = FITS_File_Name.replace('prism-clear', Grating_100)\n",
    "                        Grating_100_FITS_File_Path = os.path.join(File_Path, Grating_100_FITS_File_Name)\n",
    "                        Grating_100_FITS_File_URL = os.path.join(DJA_Root_Path, FITS_File_Root_Name, Grating_100_FITS_File_Name)\n",
    "                        if not os.path.exists(Grating_100_FITS_File_Path):\n",
    "                            os.system('wget -q -P ' + File_Path + ' ' + Grating_100_FITS_File_URL)\n",
    "                    except Exception as e:\n",
    "                        print(f'Process {multiprocessing.current_process().name}: Error downloading grating files for: {FITS_File_Name}')\n",
    "                        print('Grating:', Grating)\n",
    "                        print('Grating_100_FITS_File_Name:', Grating_100_FITS_File_Name)\n",
    "                        print('Grating_100_FITS_File_URL:', Grating_100_FITS_File_URL)\n",
    "                        print('Error:', e)\n",
    "                        return -1\n",
    "\n",
    "                else:\n",
    "                    try:\n",
    "                        Grating_FITS_File_Name = FITS_File_Name.replace('prism-clear', Grating)\n",
    "                        Grating_FITS_File_Path = os.path.join(File_Path, Grating_FITS_File_Name)\n",
    "                        Grating_FITS_File_URL = os.path.join(DJA_Root_Path, FITS_File_Root_Name, Grating_FITS_File_Name)\n",
    "\n",
    "                        if not os.path.exists(Grating_FITS_File_Path):\n",
    "                            os.system('wget -q -P ' + File_Path + ' ' + Grating_FITS_File_URL)\n",
    "                    except Exception as e:\n",
    "                        print(f'Process {multiprocessing.current_process().name}: Error downloading grating files for: {FITS_File_Name}')\n",
    "                        print('Grating:', Grating)\n",
    "                        print('Grating_FITS_File_Name:', Grating_FITS_File_Name)\n",
    "                        print('Grating_FITS_File_URL:', Grating_FITS_File_URL)\n",
    "                        print('Error:', e)\n",
    "                        return -1\n",
    "        return 0\n",
    "    except Exception as e:\n",
    "        print(f'Process {multiprocessing.current_process().name}: Unexpected error for index {File_Index_In_DJA_Catalog}')\n",
    "        print('Error:', e)\n",
    "        return -1\n",
    "\n",
    "def main():\n",
    "    File_Path = './DJAData'\n",
    "    if not os.path.exists(File_Path):\n",
    "        os.mkdir(File_Path)\n",
    "\n",
    "    if len(os.listdir(File_Path)) != 0:\n",
    "        print('Data already exists, deleting...')\n",
    "        for file in os.listdir(File_Path):\n",
    "            os.system('rm -rf ' + File_Path + '/' + file)\n",
    "        print('Data deleted.')\n",
    "    else:\n",
    "        print('Data folder is empty, proceeding to download data...')\n",
    "\n",
    "    print('Downloading data...')\n",
    "    # Download the data\n",
    "    File_CSVDataFrame = pd.read_csv('./DJACatalog.csv')\n",
    "    DJA_Root_Path = 'https://s3.amazonaws.com/msaexp-nirspec/extractions/'\n",
    "\n",
    "    total_files = len(File_CSVDataFrame)\n",
    "    print(f'Found {total_files} files to download')\n",
    "\n",
    "    # 确定CPU核心数，为了避免过度占用系统资源，使用可用核心数的70%\n",
    "    num_processes = max(1, int(multiprocessing.cpu_count() * 0.9))\n",
    "    print(f'Using {num_processes} processes for parallel downloading')\n",
    "\n",
    "    # 创建进程池\n",
    "    pool = multiprocessing.Pool(processes=num_processes)\n",
    "\n",
    "    # 创建偏函数，只留下索引需要变化\n",
    "    download_partial = partial(\n",
    "        Download_Full_Spectra_FITS,\n",
    "        File_CSVDataFrame=File_CSVDataFrame,\n",
    "        File_Path=File_Path,\n",
    "        DJA_Root_Path=DJA_Root_Path\n",
    "    )\n",
    "\n",
    "    # 使用tqdm显示进度\n",
    "    results = list(tqdm(\n",
    "        pool.imap(download_partial, range(len(File_CSVDataFrame))),\n",
    "        total=len(File_CSVDataFrame),\n",
    "        desc=\"Downloading FITS files\"\n",
    "    ))\n",
    "\n",
    "    # 关闭进程池\n",
    "    pool.close()\n",
    "    pool.join()\n",
    "\n",
    "    # 统计下载结果\n",
    "    successful_downloads = results.count(0)\n",
    "    failed_downloads = results.count(-1)\n",
    "\n",
    "    print(f\"Download completed. Successfully downloaded: {successful_downloads}, Failed: {failed_downloads}\")\n",
    "\n",
    "if __name__ == \"__main__\":\n",
    "    main()"
   ]
  },
  {
   "cell_type": "code",
   "execution_count": 2,
   "id": "a1dceaa2",
   "metadata": {},
   "outputs": [
    {
     "data": {
      "text/plain": [
       "18507"
      ]
     },
     "execution_count": 2,
     "metadata": {},
     "output_type": "execute_result"
    }
   ],
   "source": [
    "import os\n",
    "len(os.listdir('./DJAData'))"
   ]
  },
  {
   "cell_type": "code",
   "execution_count": 9,
   "id": "cc3c3b73",
   "metadata": {},
   "outputs": [
    {
     "data": {
      "text/plain": [
       "8974"
      ]
     },
     "execution_count": 9,
     "metadata": {},
     "output_type": "execute_result"
    }
   ],
   "source": [
    "len(File_CSVDataFrame.jname)"
   ]
  },
  {
   "cell_type": "code",
   "execution_count": null,
   "id": "5f04bfc3",
   "metadata": {},
   "outputs": [],
   "source": []
  }
 ],
 "metadata": {
  "kernelspec": {
   "display_name": "HPCTest",
   "language": "python",
   "name": "python3"
  },
  "language_info": {
   "codemirror_mode": {
    "name": "ipython",
    "version": 3
   },
   "file_extension": ".py",
   "mimetype": "text/x-python",
   "name": "python",
   "nbconvert_exporter": "python",
   "pygments_lexer": "ipython3",
   "version": "3.11.11"
  }
 },
 "nbformat": 4,
 "nbformat_minor": 5
}
