{
 "cells": [
  {
   "cell_type": "code",
   "execution_count": 1,
   "id": "ac4bc9c8",
   "metadata": {},
   "outputs": [
    {
     "name": "stdout",
     "output_type": "stream",
     "text": [
      "\n",
      "============================================================\n",
      "Downloading data\n",
      "============================================================\n",
      "\n",
      "Total files to download: 67099\n",
      "Using 57 processes for parallel downloading.\n"
     ]
    },
    {
     "name": "stderr",
     "output_type": "stream",
     "text": [
      "Downloading FITS files:  10%|▉         | 6574/67099 [07:01<1:04:21, 15.67it/s]"
     ]
    },
    {
     "name": "stdout",
     "output_type": "stream",
     "text": [
      "wget failed with return code: 2048\n"
     ]
    },
    {
     "name": "stderr",
     "output_type": "stream",
     "text": [
      "Downloading FITS files:  10%|▉         | 6644/67099 [07:18<21:34:14,  1.28s/it]"
     ]
    },
    {
     "name": "stdout",
     "output_type": "stream",
     "text": [
      "wget failed with return code: 2048\n"
     ]
    },
    {
     "name": "stderr",
     "output_type": "stream",
     "text": [
      "Downloading FITS files:  11%|█         | 7244/67099 [07:51<15:27, 64.53it/s]   "
     ]
    },
    {
     "name": "stdout",
     "output_type": "stream",
     "text": [
      "wget failed with return code: 2048\n",
      "wget failed with return code: 2048\n"
     ]
    },
    {
     "name": "stderr",
     "output_type": "stream",
     "text": [
      "Downloading FITS files:  70%|███████   | 47208/67099 [58:51<18:59, 17.46it/s]   "
     ]
    },
    {
     "name": "stdout",
     "output_type": "stream",
     "text": [
      "wget failed with return code: 2048\n"
     ]
    },
    {
     "name": "stderr",
     "output_type": "stream",
     "text": [
      "Downloading FITS files:  70%|███████   | 47235/67099 [58:59<30:42, 10.78it/s]"
     ]
    },
    {
     "name": "stdout",
     "output_type": "stream",
     "text": [
      "wget failed with return code: 2048\n",
      "wget failed with return code: 2048\n",
      "wget failed with return code: 2048\n"
     ]
    },
    {
     "name": "stderr",
     "output_type": "stream",
     "text": [
      "Downloading FITS files:  70%|███████   | 47274/67099 [59:01<25:51, 12.78it/s]"
     ]
    },
    {
     "name": "stdout",
     "output_type": "stream",
     "text": [
      "wget failed with return code: 2048\n"
     ]
    },
    {
     "name": "stderr",
     "output_type": "stream",
     "text": [
      "Downloading FITS files:  71%|███████▏  | 47823/67099 [59:19<13:03, 24.59it/s]"
     ]
    },
    {
     "name": "stdout",
     "output_type": "stream",
     "text": [
      "wget failed with return code: 2048\n"
     ]
    },
    {
     "name": "stderr",
     "output_type": "stream",
     "text": [
      "Downloading FITS files:  71%|███████▏  | 47889/67099 [59:24<35:40,  8.98it/s]"
     ]
    },
    {
     "name": "stdout",
     "output_type": "stream",
     "text": [
      "wget failed with return code: 2048\n"
     ]
    },
    {
     "name": "stderr",
     "output_type": "stream",
     "text": [
      "Downloading FITS files:  71%|███████▏  | 47891/67099 [59:24<41:07,  7.78it/s]"
     ]
    },
    {
     "name": "stdout",
     "output_type": "stream",
     "text": [
      "wget failed with return code: 2048\n"
     ]
    },
    {
     "name": "stderr",
     "output_type": "stream",
     "text": [
      "Downloading FITS files:  71%|███████▏  | 47893/67099 [59:27<2:24:14,  2.22it/s]"
     ]
    },
    {
     "name": "stdout",
     "output_type": "stream",
     "text": [
      "wget failed with return code: 2048\n"
     ]
    },
    {
     "name": "stderr",
     "output_type": "stream",
     "text": [
      "Downloading FITS files:  71%|███████▏  | 47899/67099 [59:33<3:54:03,  1.37it/s]"
     ]
    },
    {
     "name": "stdout",
     "output_type": "stream",
     "text": [
      "wget failed with return code: 2048\n",
      "wget failed with return code: 2048\n"
     ]
    },
    {
     "name": "stderr",
     "output_type": "stream",
     "text": [
      "Downloading FITS files:  71%|███████▏  | 47904/67099 [59:51<12:33:16,  2.35s/it]"
     ]
    },
    {
     "name": "stdout",
     "output_type": "stream",
     "text": [
      "wget failed with return code: 2048\n"
     ]
    },
    {
     "name": "stderr",
     "output_type": "stream",
     "text": [
      "Downloading FITS files:  72%|███████▏  | 48000/67099 [1:00:01<1:01:22,  5.19it/s]"
     ]
    },
    {
     "name": "stdout",
     "output_type": "stream",
     "text": [
      "wget failed with return code: 2048\n",
      "wget failed with return code: 2048\n",
      "wget failed with return code: 2048\n"
     ]
    },
    {
     "name": "stderr",
     "output_type": "stream",
     "text": [
      "Downloading FITS files: 100%|██████████| 67099/67099 [1:26:06<00:00, 12.99it/s]  "
     ]
    },
    {
     "name": "stdout",
     "output_type": "stream",
     "text": [
      "\n",
      "============================================================\n",
      "Download completed.\n",
      "Total files downloaded successfully: 67080\n",
      "Total files failed to download: 19\n",
      "Total files in catalog: 67099\n",
      "Download rate: 99.97%\n",
      "Failed rate: 0.03%\n",
      "============================================================\n",
      "\n"
     ]
    },
    {
     "name": "stderr",
     "output_type": "stream",
     "text": [
      "\n"
     ]
    }
   ],
   "source": [
    "import numpy as np\n",
    "import pandas as pd\n",
    "import os\n",
    "from tqdm import tqdm\n",
    "import multiprocessing\n",
    "from functools import partial\n",
    "\n",
    "File_Path_str = os.path.expanduser('~/DJAv4')\n",
    "DJA_Root_Url_str = \"https://s3.amazonaws.com/msaexp-nirspec/extractions\"\n",
    "os.makedirs(File_Path_str, exist_ok=True)\n",
    "DJA_v4_Catalog_Path_str = './DJAv4Catalog.csv'\n",
    "DJA_v4_Catalog_DataFrame = pd.read_csv(DJA_v4_Catalog_Path_str)\n",
    "\n",
    "def Download_FITS(Index_In_DJA_v4_DataFrame_int, DJA_v4_DataFrame, DJA_Root_Url_str, File_Path_str):\n",
    "    \"\"\"\n",
    "    Download FITS files from the DJA v4 catalog provided.\n",
    "    Parameters\n",
    "    ----------\n",
    "    Index_In_DJA_v4_DataFrame_int : int\n",
    "        Index of the row in the DataFrame to download.\n",
    "    DJA_v4_DataFrame : pd.DataFrame\n",
    "        DataFrame containing the DJA v4 catalog.\n",
    "    DJA_Root_Url_str : str\n",
    "        Root URL for the DJA v4 catalog.\n",
    "    File_Path_str : str\n",
    "        Path to save the downloaded FITS files.\n",
    "    Returns\n",
    "    -------\n",
    "    int\n",
    "        0 for success, -1 for failure\n",
    "    \"\"\"\n",
    "    # Get the row from the DataFrame\n",
    "    try:\n",
    "        Object_Catalog = DJA_v4_DataFrame.iloc[Index_In_DJA_v4_DataFrame_int]\n",
    "        Object_Root_str = Object_Catalog.root\n",
    "        Object_FileName_str = Object_Catalog.file\n",
    "\n",
    "        # Create the full file path\n",
    "        Fits_File_Root_Path_str = os.path.join(File_Path_str, Object_Root_str)\n",
    "        Fits_File_Full_Path_str = os.path.join(Fits_File_Root_Path_str, Object_FileName_str)\n",
    "        Fits_File_Url_str = f\"{DJA_Root_Url_str}/{Object_Root_str}/{Object_FileName_str}\"\n",
    "\n",
    "        # Create directory if it doesn't exist\n",
    "        os.makedirs(Fits_File_Root_Path_str, exist_ok=True)\n",
    "\n",
    "        # Check if file already exists\n",
    "        if os.path.exists(Fits_File_Full_Path_str):\n",
    "            return 0\n",
    "\n",
    "        # Download the FITS file\n",
    "        result = os.system(f'wget -q -P {Fits_File_Root_Path_str} {Fits_File_Url_str}')\n",
    "\n",
    "        if result == 0:\n",
    "            return 0\n",
    "        else:\n",
    "            print(f\"wget failed with return code: {result}\")\n",
    "            return -1\n",
    "\n",
    "    except Exception as e:\n",
    "        print(f\"Error downloading file at index {Index_In_DJA_v4_DataFrame_int}: {e}\")\n",
    "        return -1\n",
    "\n",
    "def main():\n",
    "    File_Path_str = os.path.expanduser('~/DJAv4')\n",
    "    DJA_Root_Url_str = \"https://s3.amazonaws.com/msaexp-nirspec/extractions\"\n",
    "    DJA_v4_Catalog_Path_str = './DJAv4Catalog.csv'\n",
    "    DJA_v4_Catalog_DataFrame = pd.read_csv(DJA_v4_Catalog_Path_str)\n",
    "    DJA_v4_Catalog_DataFrame = DJA_v4_Catalog_DataFrame.sort_values(by='root')\n",
    "\n",
    "    print(f\"\\n{'='*60}\")\n",
    "    print(f\"Downloading data\")\n",
    "    print(f\"{'='*60}\\n\")\n",
    "\n",
    "    total_files_int = len(DJA_v4_Catalog_DataFrame)\n",
    "    print(f\"Total files to download: {total_files_int}\")\n",
    "\n",
    "    # Use multiprocessing to download files in parallel\n",
    "    num_processes_int = int(multiprocessing.cpu_count() * 0.8)\n",
    "    print(f\"Using {num_processes_int} processes for parallel downloading.\")\n",
    "\n",
    "    pool = multiprocessing.Pool(processes=num_processes_int)\n",
    "\n",
    "    # Create partial function with the fixed parameters\n",
    "    download_func = partial(Download_FITS,\n",
    "                           DJA_v4_DataFrame=DJA_v4_Catalog_DataFrame,\n",
    "                           DJA_Root_Url_str=DJA_Root_Url_str,\n",
    "                           File_Path_str=File_Path_str)\n",
    "\n",
    "    results = list(tqdm(pool.imap(download_func, range(total_files_int)),\n",
    "                       total=total_files_int,\n",
    "                       desc=\"Downloading FITS files\"))\n",
    "\n",
    "    pool.close()\n",
    "    pool.join()\n",
    "\n",
    "    successful_downloads = sum(1 for result in results if result == 0)\n",
    "    failed_downloads = sum(1 for result in results if result == -1)\n",
    "\n",
    "    print(f\"\\n{'='*60}\")\n",
    "    print(f\"Download completed.\")\n",
    "    print(f\"Total files downloaded successfully: {successful_downloads}\")\n",
    "    print(f\"Total files failed to download: {failed_downloads}\")\n",
    "    print(f\"Total files in catalog: {total_files_int}\")\n",
    "    print(f\"Download rate: {successful_downloads/total_files_int*100:.2f}%\")\n",
    "    print(f\"Failed rate: {failed_downloads/total_files_int*100:.2f}%\")\n",
    "    print(f\"{'='*60}\\n\")\n",
    "\n",
    "if __name__ == \"__main__\":\n",
    "    main()"
   ]
  },
  {
   "cell_type": "code",
   "execution_count": 3,
   "id": "de54f8cb",
   "metadata": {},
   "outputs": [],
   "source": [
    "import numpy as np\n",
    "import pandas as pd\n",
    "import os\n",
    "from tqdm import tqdm\n",
    "import multiprocessing\n",
    "from functools import partial\n",
    "\n",
    "File_Path_str = os.path.expanduser('~/DJAv4')\n",
    "DJA_Root_Url_str = \"https://s3.amazonaws.com/msaexp-nirspec/extractions\"\n",
    "os.makedirs(File_Path_str, exist_ok=True)\n",
    "DJA_v4_Catalog_Path_str = './DJAv4Catalog.csv'\n",
    "DJA_v4_Catalog_DataFrame = pd.read_csv(DJA_v4_Catalog_Path_str)\n",
    "DJA_v4_Catalog_Path_str = './DJAv4Catalog.csv'\n",
    "DJA_v4_Catalog_DataFrame = pd.read_csv(DJA_v4_Catalog_Path_str)\n",
    "DJA_v4_Catalog_DataFrame = DJA_v4_Catalog_DataFrame.sort_values(by='root')"
   ]
  },
  {
   "cell_type": "code",
   "execution_count": null,
   "id": "28c8361d",
   "metadata": {},
   "outputs": [],
   "source": []
  }
 ],
 "metadata": {
  "kernelspec": {
   "display_name": "DustCurve",
   "language": "python",
   "name": "python3"
  },
  "language_info": {
   "codemirror_mode": {
    "name": "ipython",
    "version": 3
   },
   "file_extension": ".py",
   "mimetype": "text/x-python",
   "name": "python",
   "nbconvert_exporter": "python",
   "pygments_lexer": "ipython3",
   "version": "3.11.11"
  }
 },
 "nbformat": 4,
 "nbformat_minor": 5
}
