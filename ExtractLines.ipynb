{
 "cells": [
  {
   "cell_type": "code",
   "execution_count": 2,
   "id": "053609a4",
   "metadata": {},
   "outputs": [],
   "source": [
    "import astropy\n",
    "import astropy.units as u\n",
    "import numpy as np\n",
    "import specutils\n",
    "import matplotlib.pyplot as plt\n",
    "import pandas as pd\n",
    "import inspect\n",
    "import FunctionLib as FL\n",
    "\n",
    "import os\n",
    "import warnings\n",
    "warnings.filterwarnings(\"ignore\", category=UserWarning, append=True)"
   ]
  },
  {
   "cell_type": "code",
   "execution_count": 3,
   "id": "3a56ccc8",
   "metadata": {},
   "outputs": [
    {
     "name": "stdout",
     "output_type": "stream",
     "text": [
      "Number of files in DJA directory: 18507\n"
     ]
    }
   ],
   "source": [
    "DJA_File_Path_str=os.path.expanduser('~/DJAData/')\n",
    "DJA_Catalog_DataFrame=pd.read_csv('./DJACatalog.csv')\n",
    "\n",
    "if os.path.exists(DJA_File_Path_str):\n",
    "    DJA_File_list=np.array(os.listdir(DJA_File_Path_str))\n",
    "print('Number of files in DJA directory:', len(DJA_File_list))"
   ]
  },
  {
   "cell_type": "code",
   "execution_count": 4,
   "id": "2642d6f5",
   "metadata": {},
   "outputs": [
    {
     "name": "stdout",
     "output_type": "stream",
     "text": [
      "Number of files in current directory: 3\n"
     ]
    }
   ],
   "source": [
    "DJA_File_List=[f for f in os.listdir('./') if f.startswith('goodsn')]\n",
    "print('Number of files in current directory:', len(DJA_File_List))"
   ]
  },
  {
   "cell_type": "code",
   "execution_count": null,
   "id": "eeafc159",
   "metadata": {},
   "outputs": [],
   "source": [
    "Sample_Indices_list=list()\n",
    "for Index_In_DJA_Catalog_int in range(len(DJA_Catalog_DataFrame)):\n",
    "\n",
    "    Redshift_float=DJA_Catalog_DataFrame['z'][Index_In_DJA_Catalog_int]\n",
    "\n",
    "    if (Redshift_float<4)or (Redshift_float>6.5):\n",
    "        continue\n",
    "\n",
    "    Spectra_NGrating_int=DJA_Catalog_DataFrame.nGr[Index_In_DJA_Catalog_int]\n",
    "    if Spectra_NGrating_int<2:\n",
    "        continue\n",
    "\n",
    "    Sample_Indices_list.append(Index_In_DJA_Catalog_int)\n",
    "\n",
    "print('Sample number:', len(Sample_Indices_list))\n",
    "Sample_Indices_list=np.array(Sample_Indices_list)\n",
    "\n",
    "FL.Free('Index_In_DJA_Catalog_int')"
   ]
  },
  {
   "cell_type": "code",
   "execution_count": null,
   "id": "60749a01",
   "metadata": {},
   "outputs": [],
   "source": [
    "for DJA_Catalog_DataFrame_Index_int in Sample_Indices_list:\n",
    "\n",
    "    Object_Catalog_Dataframe=DJA_Catalog_DataFrame[DJA_Catalog_DataFrame.index==DJA_Catalog_DataFrame_Index_int]\n",
    "\n",
    "    Object_Prism_fits_File_Name_str=Object_Catalog_Dataframe.file.values[0]\n",
    "    Object_NGrating_int=Object_Catalog_Dataframe.nGr.values[0]\n",
    "    Object_Grating_List_str=Object_Catalog_Dataframe.Grating.values[0]\n",
    "    Object_Redshift_float=Object_Catalog_Dataframe.z.values[0]\n",
    "\n",
    "    for Grating_Type_str in Object_Grating_List_str.split('   '):\n",
    "        Grating_Type_str=Grating_Type_str.strip().lower()\n",
    "\n",
    "        Disperser_Name_str=Grating_Type_str[1:-1]\n",
    "\n",
    "        Dual_Filter_Flag=False\n",
    "\n",
    "        if Disperser_Name_str=='140':\n",
    "            Dual_Filter_Flag=True\n",
    "            Disperser_Filter_Combination_070_str=Grating_Type_str+'-f070lp'\n",
    "            Disperser_Filter_Combination_100_str=Grating_Type_str+'-f100lp'\n",
    "        elif Disperser_Name_str=='235':\n",
    "            Dual_Filter_Flag=False\n",
    "            Disperser_Filter_Combination_Single_str=Grating_Type_str+'-f170lp'\n",
    "        elif Disperser_Name_str=='395':\n",
    "            Dual_Filter_Flag=False\n",
    "            Disperser_Filter_Combination_Single_str=Grating_Type_str+'-f290lp'\n",
    "\n",
    "        if Dual_Filter_Flag:\n",
    "            try:\n",
    "                Grating_070_fits_File_Name_str=Object_Prism_fits_File_Name_str.replace('prism-clear', Disperser_Filter_Combination_070_str)\n",
    "                Grating_100_fits_File_Name_str=Object_Prism_fits_File_Name_str.replace('prism-clear', Disperser_Filter_Combination_100_str)\n",
    "\n",
    "                if not os.path.exists(DJA_File_Path_str+Grating_070_fits_File_Name_str) or not os.path.exists(DJA_File_Path_str+Grating_100_fits_File_Name_str):\n",
    "                    print('File not found:', Grating_070_fits_File_Name_str, Grating_100_fits_File_Name_str)\n",
    "                    continue\n",
    "                else:\n",
    "                    print('1')\n",
    "\n",
    "            except Exception as e:\n",
    "                print('Error processing dual filter grating:', e)\n",
    "                continue\n",
    "        else:\n",
    "            try:\n",
    "                Grating_fits_File_Name_str=Object_Prism_fits_File_Name_str.replace('prism-clear', Disperser_Filter_Combination_Single_str)\n",
    "                if not os.path.exists(DJA_File_Path_str+Grating_fits_File_Name_str):\n",
    "                    print('File not found:', Grating_fits_File_Name_str)\n",
    "                    continue\n",
    "                else:\n",
    "                    print('1')\n",
    "            except Exception as e:\n",
    "                print('Error processing single filter grating:', e)\n",
    "                continue\n",
    "\n",
    "\n",
    "\n",
    "\n",
    "\n"
   ]
  },
  {
   "cell_type": "code",
   "execution_count": null,
   "id": "eb4e8e39",
   "metadata": {},
   "outputs": [],
   "source": [
    "df= pd.read_csv('./DJACatalog.csv')\n",
    "df"
   ]
  },
  {
   "cell_type": "code",
   "execution_count": null,
   "id": "91a43ccc",
   "metadata": {},
   "outputs": [],
   "source": [
    "8974+10804"
   ]
  },
  {
   "cell_type": "code",
   "execution_count": null,
   "id": "a4b2256d",
   "metadata": {},
   "outputs": [],
   "source": [
    "df.nGr.sum()"
   ]
  }
 ],
 "metadata": {
  "kernelspec": {
   "display_name": "DustCurve",
   "language": "python",
   "name": "python3"
  },
  "language_info": {
   "codemirror_mode": {
    "name": "ipython",
    "version": 3
   },
   "file_extension": ".py",
   "mimetype": "text/x-python",
   "name": "python",
   "nbconvert_exporter": "python",
   "pygments_lexer": "ipython3",
   "version": "3.11.8"
  }
 },
 "nbformat": 4,
 "nbformat_minor": 5
}
